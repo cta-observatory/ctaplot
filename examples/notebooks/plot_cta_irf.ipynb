{
 "cells": [
  {
   "cell_type": "markdown",
   "metadata": {},
   "source": [
    "# How to easily plot CTA IRF requirements and performances"
   ]
  },
  {
   "cell_type": "markdown",
   "metadata": {},
   "source": [
    "CTA performances are up-to-date and public and can be found on the [cta-observatory website](https://www.cta-observatory.org/science/cta-performance/)"
   ]
  },
  {
   "cell_type": "code",
   "execution_count": null,
   "metadata": {},
   "outputs": [],
   "source": [
    "import ctaplot\n",
    "from ctaplot.io.dataset import get\n",
    "import numpy as np\n",
    "import matplotlib.pyplot as plt\n",
    "\n",
    "%matplotlib inline\n",
    "\n",
    "ctaplot.set_style('notebook')"
   ]
  },
  {
   "cell_type": "markdown",
   "metadata": {},
   "source": [
    "----\n",
    "## Angular resolution"
   ]
  },
  {
   "cell_type": "code",
   "execution_count": null,
   "metadata": {},
   "outputs": [],
   "source": [
    "fig, ax = plt.subplots(figsize=(12,8))\n",
    "ax = ctaplot.plot_angular_resolution_cta_requirement('north', ax=ax, linewidth=3)\n",
    "ax = ctaplot.plot_angular_resolution_cta_performance('north', ax=ax, marker='o')\n",
    "ax = ctaplot.plot_angular_resolution_cta_requirement('south', ax=ax,  linewidth=3)\n",
    "ax = ctaplot.plot_angular_resolution_cta_performance('south', ax=ax, marker='o')\n",
    "plt.show()"
   ]
  },
  {
   "cell_type": "markdown",
   "metadata": {},
   "source": [
    "----\n",
    "## Energy resolution"
   ]
  },
  {
   "cell_type": "code",
   "execution_count": null,
   "metadata": {},
   "outputs": [],
   "source": [
    "fig, ax = plt.subplots(figsize=(12,8))\n",
    "ax = ctaplot.plot_energy_resolution_cta_requirement('north', ax=ax, linewidth=3)\n",
    "ax = ctaplot.plot_energy_resolution_cta_performance('north', ax=ax, marker='o')\n",
    "ax = ctaplot.plot_energy_resolution_cta_requirement('south', ax=ax,  linewidth=3)\n",
    "ax = ctaplot.plot_energy_resolution_cta_performance('south', ax=ax, marker='o')\n",
    "plt.show()"
   ]
  },
  {
   "cell_type": "markdown",
   "metadata": {},
   "source": [
    "----\n",
    "## Effective Area"
   ]
  },
  {
   "cell_type": "code",
   "execution_count": null,
   "metadata": {},
   "outputs": [],
   "source": [
    "fig, ax = plt.subplots(figsize=(12,8))\n",
    "ax = ctaplot.plot_effective_area_cta_requirement('north', ax=ax, linewidth=3)\n",
    "ax = ctaplot.plot_effective_area_cta_performance('north', ax=ax, marker='o')\n",
    "ax = ctaplot.plot_effective_area_cta_requirement('south', ax=ax,  linewidth=3)\n",
    "ax = ctaplot.plot_effective_area_cta_performance('south', ax=ax, marker='o')\n",
    "plt.show()"
   ]
  },
  {
   "cell_type": "markdown",
   "metadata": {},
   "source": [
    "----\n",
    "## Sensitivity"
   ]
  },
  {
   "cell_type": "code",
   "execution_count": null,
   "metadata": {
    "pycharm": {
     "is_executing": false
    }
   },
   "outputs": [],
   "source": [
    "fig, ax = plt.subplots(figsize=(12,8))\n",
    "ax = ctaplot.plot_sensitivity_cta_requirement('north', ax=ax, linewidth=3)\n",
    "ax = ctaplot.plot_sensitivity_cta_performance('north', ax=ax, marker='o')\n",
    "ax = ctaplot.plot_sensitivity_cta_requirement('south', ax=ax,  linewidth=3)\n",
    "ax = ctaplot.plot_sensitivity_cta_performance('south', ax=ax, marker='o')\n",
    "ax.set_ylabel(r'Flux Sensitivity $[erg.cm^{-2}.s^{-1}]$')\n",
    "plt.show()"
   ]
  },
  {
   "cell_type": "code",
   "execution_count": null,
   "metadata": {},
   "outputs": [],
   "source": []
  },
  {
   "cell_type": "markdown",
   "metadata": {},
   "source": [
    "## Sub-arrays"
   ]
  },
  {
   "cell_type": "code",
   "execution_count": null,
   "metadata": {},
   "outputs": [],
   "source": [
    "lst_north_angres_requirements = np.loadtxt(get('cta_requirements_North-50h-LST-AngRes.dat'))"
   ]
  },
  {
   "cell_type": "code",
   "execution_count": null,
   "metadata": {},
   "outputs": [],
   "source": [
    "fig, ax = plt.subplots(figsize=(12,8))\n",
    "ax = ctaplot.plot_angular_resolution_cta_requirement('north', ax=ax, linewidth=3)\n",
    "ax = ctaplot.plot_angular_resolution_cta_performance('north', ax=ax, marker='o')\n",
    "ax.scatter(lst_north_angres_requirements[:,0], lst_north_angres_requirements[:,1],\n",
    "           label=\"LST North requirements\",\n",
    "           color='red')\n",
    "plt.show()"
   ]
  },
  {
   "cell_type": "code",
   "execution_count": null,
   "metadata": {
    "pycharm": {
     "is_executing": false
    }
   },
   "outputs": [],
   "source": []
  }
 ],
 "metadata": {
  "kernelspec": {
   "display_name": "Python 3",
   "language": "python",
   "name": "python3"
  },
  "language_info": {
   "codemirror_mode": {
    "name": "ipython",
    "version": 3
   },
   "file_extension": ".py",
   "mimetype": "text/x-python",
   "name": "python",
   "nbconvert_exporter": "python",
   "pygments_lexer": "ipython3",
   "version": "3.7.3"
  }
 },
 "nbformat": 4,
 "nbformat_minor": 2
}