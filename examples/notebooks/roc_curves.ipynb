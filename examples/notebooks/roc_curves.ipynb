{
 "cells": [
  {
   "cell_type": "markdown",
   "metadata": {},
   "source": [
    "# Plotting ROC curves with ctaplot"
   ]
  },
  {
   "cell_type": "code",
   "execution_count": null,
   "metadata": {
    "pycharm": {
     "is_executing": false
    }
   },
   "outputs": [],
   "source": [
    "import ctaplot\n",
    "import numpy as np\n",
    "import matplotlib.pyplot as plt\n",
    "import astropy.units as u"
   ]
  },
  {
   "cell_type": "code",
   "execution_count": null,
   "metadata": {
    "pycharm": {
     "is_executing": false
    }
   },
   "outputs": [],
   "source": [
    "ctaplot.set_style()"
   ]
  },
  {
   "cell_type": "markdown",
   "metadata": {},
   "source": [
    "##  ROC curves\n",
    "ROC curves are useful to assess the discrimination power of a reconstruction pipeline.     \n",
    "For IACT, we often only care about gamma events in a one vs all fashion. For that purpose, one can use `ctaplot.plot_roc_curve_gammaness`"
   ]
  },
  {
   "cell_type": "code",
   "execution_count": null,
   "metadata": {
    "pycharm": {
     "is_executing": false
    }
   },
   "outputs": [],
   "source": [
    "def fake_reco_distri(size, good=True):\n",
    "    \"\"\"\n",
    "    Generate a random distribution between 0 and 1.\n",
    "    If `good==True`, the distribution is shifted towards 1.\n",
    "    If `good==False`, the distribution is shifted towards 0.\n",
    "    \"\"\"\n",
    "    r0 = np.random.gamma(5, 1, size)\n",
    "    if good:\n",
    "        return 1 - r0/r0.max()\n",
    "    else:\n",
    "        return r0/r0.max()"
   ]
  },
  {
   "cell_type": "code",
   "execution_count": null,
   "metadata": {
    "pycharm": {
     "is_executing": false
    }
   },
   "outputs": [],
   "source": [
    "# Example of fake distri:\n",
    "plt.hist(fake_reco_distri(10000, good=True), bins=100);\n",
    "plt.show()"
   ]
  },
  {
   "cell_type": "code",
   "execution_count": null,
   "metadata": {
    "pycharm": {
     "is_executing": false
    }
   },
   "outputs": [],
   "source": [
    "# Let's simulate some events. Following the CORSIKA convention, 0 are for gammas, 1 for electrons, 101  for protons.\n",
    "\n",
    "nb_events = 10000\n",
    "\n",
    "particles = [0, 1, 101]\n",
    "mc_type = np.random.choice(particles, size=nb_events)\n",
    "gammaness = np.empty(nb_events)\n",
    "gammaness[mc_type==0] = fake_reco_distri(len(mc_type[mc_type==0]), good=True)\n",
    "gammaness[mc_type!=0] = fake_reco_distri(len(mc_type[mc_type!=0]), good=False)"
   ]
  },
  {
   "cell_type": "code",
   "execution_count": null,
   "metadata": {
    "pycharm": {
     "is_executing": false
    }
   },
   "outputs": [],
   "source": [
    "plt.figure(figsize=(14,8))\n",
    "ax = ctaplot.plot_gammaness_distribution(mc_type, gammaness, bins=100, histtype='step', linewidth=3);\n",
    "ax.grid('on')\n",
    "plt.show()"
   ]
  },
  {
   "cell_type": "code",
   "execution_count": null,
   "metadata": {
    "pycharm": {
     "is_executing": false
    }
   },
   "outputs": [],
   "source": [
    "plt.figure(figsize=(14,8))\n",
    "ax = ctaplot.plot_roc_curve_gammaness(mc_type, gammaness, linewidth=4);\n",
    "ax.legend(fontsize=20);\n",
    "plt.show()"
   ]
  },
  {
   "cell_type": "markdown",
   "metadata": {},
   "source": [
    "### Multiclass ROC curve   \n",
    "In this case, one needs a reconstruction probability per class.    \n",
    "The probability should be between 0 and 1."
   ]
  },
  {
   "cell_type": "code",
   "execution_count": null,
   "metadata": {
    "pycharm": {
     "is_executing": false
    }
   },
   "outputs": [],
   "source": [
    "reco_proba = {}\n",
    "for p in particles:\n",
    "    reco_proba[p] = np.ones_like(mc_type, dtype=np.float32)\n",
    "    reco_proba[p][mc_type==p] = fake_reco_distri(len(mc_type[mc_type==p]), good=True)\n",
    "    reco_proba[p][mc_type!=p] = fake_reco_distri(len(mc_type[mc_type!=p]), good=False)"
   ]
  },
  {
   "cell_type": "code",
   "execution_count": null,
   "metadata": {
    "pycharm": {
     "is_executing": false
    }
   },
   "outputs": [],
   "source": [
    "plt.figure(figsize=(14,8))\n",
    "ax = ctaplot.plot_roc_curve_multiclass(mc_type, reco_proba, linewidth=3, linestyle='--');\n",
    "ax.legend(fontsize=20);\n",
    "plt.show()"
   ]
  },
  {
   "cell_type": "markdown",
   "metadata": {},
   "source": [
    "## ROC curves as a function of the gamma energy\n",
    "\n",
    "One can evaluate the classification performance as a function of the gamma energy.    \n",
    "In this case, the AUC is computed for gammas in each band vs **all** non-gammas particles (regardless of their energies). "
   ]
  },
  {
   "cell_type": "code",
   "execution_count": null,
   "metadata": {
    "pycharm": {
     "is_executing": false
    }
   },
   "outputs": [],
   "source": [
    "# Fake energies between 10GeV and 10TeV:\n",
    "mc_gamma_energies = 10**(4*np.random.rand(nb_events) - 2) * u.TeV"
   ]
  },
  {
   "cell_type": "code",
   "execution_count": null,
   "metadata": {
    "pycharm": {
     "is_executing": false
    }
   },
   "outputs": [],
   "source": [
    "plt.figure(figsize=(14,8))\n",
    "ax = ctaplot.plot_roc_curve_gammaness_per_energy(mc_type, gammaness, mc_gamma_energies,\n",
    "                                                 energy_bins=u.Quantity([0.01,0.1,1,3,10], u.TeV),\n",
    "                                                 linestyle='--',\n",
    "                                                 alpha=0.8,\n",
    "                                                 linewidth=3,\n",
    "                                                );\n",
    "ax.legend(fontsize=20);\n",
    "plt.show()"
   ]
  }
 ],
 "metadata": {
  "kernelspec": {
   "display_name": "Python 3",
   "language": "python",
   "name": "python3"
  },
  "language_info": {
   "codemirror_mode": {
    "name": "ipython",
    "version": 3
   },
   "file_extension": ".py",
   "mimetype": "text/x-python",
   "name": "python",
   "nbconvert_exporter": "python",
   "pygments_lexer": "ipython3",
   "version": "3.7.6"
  },
  "pycharm": {
   "stem_cell": {
    "cell_type": "raw",
    "metadata": {
     "collapsed": false
    },
    "source": []
   }
  }
 },
 "nbformat": 4,
 "nbformat_minor": 4
}
