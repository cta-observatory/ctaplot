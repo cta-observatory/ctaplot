{
 "cells": [
  {
   "cell_type": "markdown",
   "metadata": {
    "pycharm": {}
   },
   "source": [
    "# How is resolution computed"
   ]
  },
  {
   "cell_type": "markdown",
   "metadata": {},
   "source": [
    "## Index\n",
    "\n",
    "- [Normal distribution](#Normal-distribution)   \n",
    "\n",
    "- [Resolution](#Resolution)    \n",
    "\n",
    "- [Relative scaling](#Relative-scaling)    \n",
    "\n",
    "- [Error bars](#Error-bars)    "
   ]
  },
  {
   "cell_type": "code",
   "execution_count": 1,
   "metadata": {
    "pycharm": {
     "is_executing": false
    }
   },
   "outputs": [],
   "source": [
    "import numpy as np\n",
    "import matplotlib.pyplot as plt\n",
    "from ctaplot.ana import resolution, relative_scaling"
   ]
  },
  {
   "cell_type": "markdown",
   "metadata": {
    "pycharm": {}
   },
   "source": [
    "## Normal distribution\n",
    "For a nomal distribution, $\\sigma$ corresponds to the 68 percentile of the distribution   \n",
    "See the [68–95–99.7 rule](https://en.wikipedia.org/wiki/68%E2%80%9395%E2%80%9399.7_rule)"
   ]
  },
  {
   "cell_type": "code",
   "execution_count": 2,
   "metadata": {
    "pycharm": {
     "is_executing": false
    }
   },
   "outputs": [
    {
     "name": "stdout",
     "text": [
      "68th percentile = 2.9999\n",
      "95th percentile = 6.0005\n",
      "99th percentile = 8.9907\n"
     ],
     "output_type": "stream"
    },
    {
     "data": {
      "text/plain": "<Figure size 432x288 with 1 Axes>",
      "image/png": "[encoded data removed]"
     },
     "metadata": {
      "needs_background": "light"
     },
     "output_type": "display_data"
    }
   ],
   "source": [
    "loc = 10\n",
    "scale = 3\n",
    "\n",
    "X = np.random.normal(size=1000000, scale=scale, loc=loc)\n",
    "plt.hist(np.abs(X - loc), bins=80, density=True)\n",
    "\n",
    "sig_68 = np.percentile(np.abs(X - loc), 68.27)\n",
    "sig_95 = np.percentile(np.abs(X - loc), 95.45)\n",
    "sig_99 = np.percentile(np.abs(X - loc), 99.73)\n",
    "\n",
    "plt.vlines(sig_68, 0, 0.3, label='68%', color='red')\n",
    "plt.vlines(sig_95, 0, 0.3, label='95%', color='green')\n",
    "plt.vlines(sig_99, 0, 0.3, label='99%', color='yellow')\n",
    "plt.ylim(0,0.3)\n",
    "plt.legend()\n",
    "\n",
    "\n",
    "print(\"68th percentile = {:.4f}\".format(sig_68))\n",
    "print(\"95th percentile = {:.4f}\".format(sig_95))\n",
    "print(\"99th percentile = {:.4f}\".format(sig_99))\n",
    "\n",
    "assert np.isclose(sig_68, scale, rtol=1e-2)\n",
    "assert np.isclose(sig_95, 2 * scale, rtol=1e-2)\n",
    "assert np.isclose(sig_99, 3 * scale, rtol=1e-2)"
   ]
  },
  {
   "cell_type": "markdown",
   "metadata": {
    "pycharm": {}
   },
   "source": [
    "## Resolution\n",
    "The resolution is defined as the 68th percentile of the relative error `err = (reco - simu)/scaling`.   \n",
    "(see the [relative scaling](#Relative-scaling) section for more info on it).    \n",
    "Hence, if the relative error follows a normal distribution, the resolution is equal to the sigma of the distribution"
   ]
  },
  {
   "cell_type": "code",
   "execution_count": 3,
   "metadata": {
    "pycharm": {
     "is_executing": false
    }
   },
   "outputs": [
    {
     "data": {
      "text/plain": "Text(0.5, 1.0, 'err')"
     },
     "metadata": {},
     "output_type": "execute_result",
     "execution_count": 3
    },
    {
     "data": {
      "text/plain": "<Figure size 1440x504 with 2 Axes>",
      "image/png": "[encoded data removed]"
     },
     "metadata": {
      "needs_background": "light"
     },
     "output_type": "display_data"
    }
   ],
   "source": [
    "simu = loc * np.ones(X.shape[0])\n",
    "reco = np.random.normal(loc=loc, scale=scale, size=X.shape[0])\n",
    "\n",
    "err = np.abs(simu - reco)\n",
    "\n",
    "fig, axes = plt.subplots(1, 2, figsize=(20,7))\n",
    "axes[0].hist(reco, bins=80, label='reco')\n",
    "axes[0].axvline(loc, 0, 1, color='red', label='simu')\n",
    "axes[0].legend()\n",
    "axes[1].hist(err, bins=80)\n",
    "axes[1].set_title('err')"
   ]
  },
  {
   "cell_type": "markdown",
   "metadata": {
    "pycharm": {}
   },
   "source": [
    "Let's define `reco` in order to have a relative error equals to `err`.   \n",
    "Its resolution is equals to the sigma of the distribution"
   ]
  },
  {
   "cell_type": "code",
   "execution_count": 4,
   "metadata": {
    "pycharm": {
     "is_executing": false
    }
   },
   "outputs": [
    {
     "name": "stdout",
     "text": [
      "[3.0029721  2.99821785 3.00797764]\n"
     ],
     "output_type": "stream"
    }
   ],
   "source": [
    "res = resolution(simu, reco, relative_scaling_method=None)\n",
    "print(res)\n",
    "assert np.isclose(res[0], scale, rtol=1e-2)"
   ]
  },
  {
   "cell_type": "markdown",
   "metadata": {},
   "source": [
    "----\n",
    "## Relative scaling\n",
    "\n",
    "The resolution can be measured on the absolute error or on the relative one.  \n",
    "\n",
    "$$ err = (reco - simu)/scaling $$ \n",
    "\n",
    "\n",
    "There is no absolute definition of the relative scaling and several are proposed in `ctaplot`.    \n",
    "The choice can be passed through the `relative_scaling_method`:     \n",
    "\n",
    "Methods:     \n",
    "- `s0` : no scaling (scaling = 1)    \n",
    "- `s1` : $ scaling = |simu| $     \n",
    "- `s2` : $ scaling = |reco| $     \n",
    "- `s3` : $ scaling = (|simu| + |reco|)/2 $     \n",
    "- `s4` : $ scaling = max(|reco|, |simu|) $    \n",
    "\n",
    "The default one for the resolution is `s1`.  "
   ]
  },
  {
   "cell_type": "markdown",
   "metadata": {},
   "source": [
    "Note that methods involving `reco` are more subject to deviation from the expected result:"
   ]
  },
  {
   "cell_type": "code",
   "execution_count": 5,
   "metadata": {
    "pycharm": {
     "is_executing": false
    }
   },
   "outputs": [
    {
     "name": "stdout",
     "text": [
      "Method s1 gives a resolution = 0.300 to be compared with the expected value = 0.3\n",
      "Method s2 gives a resolution = 0.288 to be compared with the expected value = 0.3\n",
      "Method s3 gives a resolution = 0.297 to be compared with the expected value = 0.3\n",
      "Method s4 gives a resolution = 0.259 to be compared with the expected value = 0.3\n"
     ],
     "output_type": "stream"
    }
   ],
   "source": [
    "for method in ['s1', 's2', 's3', 's4']:\n",
    "    res = resolution(simu, reco, relative_scaling_method=method)\n",
    "    print(\"Method {} gives a resolution = {:.3f} to be compared with the expected value = {}\".format(method, res[0], scale/loc))"
   ]
  },
  {
   "cell_type": "markdown",
   "metadata": {},
   "source": [
    "NB:    \n",
    "- the angular resolution uses no scaling     \n",
    "- the energy resolution uses scaling `s1`     \n",
    "- the impact resolution uses no scaling by default     "
   ]
  },
  {
   "cell_type": "markdown",
   "metadata": {
    "pycharm": {}
   },
   "source": [
    "---\n",
    "## Error bars"
   ]
  },
  {
   "cell_type": "markdown",
   "metadata": {
    "pycharm": {}
   },
   "source": [
    "Errors bars in resolution plots are given by the [confidence interval](https://en.wikipedia.org/wiki/Confidence_interval ) (by default at 95%, equivalent to 2 sigmas for a normal distribution).    \n",
    "This means that we can be confident at 95% that the resolution values are within the range given by the error bars.\n",
    "\n",
    "The implementation for percentile confidence interval follows:\n",
    "- http://people.stat.sfu.ca/~cschwarz/Stat-650/Notes/PDF/ChapterPercentiles.pdf    "
   ]
  },
  {
   "cell_type": "markdown",
   "metadata": {
    "pycharm": {}
   },
   "source": [
    "Example with a normal distribution:"
   ]
  },
  {
   "cell_type": "code",
   "execution_count": 6,
   "metadata": {
    "pycharm": {
     "is_executing": false
    }
   },
   "outputs": [
    {
     "data": {
      "text/plain": "<Figure size 432x288 with 1 Axes>",
      "image/png": "[encoded data removed]"
     },
     "metadata": {
      "needs_background": "light"
     },
     "output_type": "display_data"
    },
    {
     "name": "stdout",
     "text": [
      "The true 68th percentile of this distribution is: 11.4226\n"
     ],
     "output_type": "stream"
    }
   ],
   "source": [
    "nbins, bins, patches = plt.hist(X, bins=100, density=True)\n",
    "ymax = 1.1 * nbins.max()\n",
    "plt.ylim(0, ymax)\n",
    "plt.vlines(np.percentile(X, 68.27), 0, ymax, color='red')\n",
    "plt.show()\n",
    "print(\"The true 68th percentile of this distribution is: {:.4f}\".format(np.percentile(X, 68.27)))"
   ]
  },
  {
   "cell_type": "markdown",
   "metadata": {
    "pycharm": {}
   },
   "source": [
    "We can consider this as our underlying (infinite) distribution.     \n",
    "If we take a random sample in this ditribution, the measurement of a percentile will come with a measurement error.\n",
    "We can assess this error by taking multiple random samples and taking the distribution of measured percentile values."
   ]
  },
  {
   "cell_type": "code",
   "execution_count": 7,
   "metadata": {
    "pycharm": {
     "is_executing": false
    }
   },
   "outputs": [
    {
     "name": "stdout",
     "text": [
      "Standard deviation = 0.11973\n"
     ],
     "output_type": "stream"
    },
    {
     "data": {
      "text/plain": "<Figure size 432x288 with 1 Axes>",
      "image/png": "[encoded data removed]"
     },
     "metadata": {
      "needs_background": "light"
     },
     "output_type": "display_data"
    }
   ],
   "source": [
    "n = 1000\n",
    "p = 0.6827\n",
    "all_68 = []\n",
    "for i in range(int(len(X)/n)):\n",
    "    all_68.append(np.percentile(X[i*n:(i+1)*n], p*100))\n",
    "    \n",
    "all_68 = np.array(all_68)\n",
    "nbins, bins, patches = plt.hist(all_68, density=True);\n",
    "ymax = 1.1 * nbins.max()\n",
    "plt.vlines(all_68.mean(), 0, ymax)\n",
    "plt.vlines(all_68.mean() + all_68.std(), 0, ymax, color='red')\n",
    "plt.vlines(all_68.mean() - all_68.std(), 0, ymax, color='red')\n",
    "plt.ylim(0, ymax)\n",
    "plt.title(\"Distribution of the measured 68th percentile\")\n",
    "\n",
    "print(\"Standard deviation = {:.5f}\".format(all_68.std()))"
   ]
  },
  {
   "cell_type": "markdown",
   "metadata": {
    "pycharm": {}
   },
   "source": [
    "To evaluate directly the confidence interval from a sub-sample of the distribution, one can use the following formulae:    \n",
    "    $$ R_{low} = n*p − z * \\sqrt{n * p * (1 − p)} $$\n",
    "    $$ R_{up} = n*p + z * \\sqrt{n * p * (1 − p)} $$\n",
    "    \n",
    "with $p$ the percentile and $z$ the confidence level desired.\n",
    "\n",
    "And the confidence interval given by: ($X[R_{low}], X[R_{up}])$\n",
    "\n",
    "The confidence level is given by the cumulative distribution function (`scipy.stats.norm.ppf`).    \n",
    "Some useful values:   \n",
    "\n",
    "- z = 0.47 for a confidence level of 68%    \n",
    "- z = 1.645 for a confidence level of 95%    \n",
    "- z = 2.33 for a confidence level of 99%    "
   ]
  },
  {
   "cell_type": "code",
   "execution_count": 8,
   "metadata": {
    "pycharm": {
     "is_executing": false
    }
   },
   "outputs": [
    {
     "name": "stdout",
     "text": [
      "Measured percentile: 11.5283\n",
      "Confidence interval: (11.2443, 11.9176)\n",
      "To be compared with: (11.0628, 11.7812)\n",
      "which is the corresponding confidence interval given by the normal distribution of the measured percentiles\n"
     ],
     "output_type": "stream"
    }
   ],
   "source": [
    "# confidence level:\n",
    "z = 2.33\n",
    "\n",
    "# sub-sample:\n",
    "x = X[:n]\n",
    "\n",
    "rl = int(n * p - z * np.sqrt(n * p * (1-p)))\n",
    "ru = int(n * p + z * np.sqrt(n * p * (1-p)))\n",
    "print(\"Measured percentile: {:.4f}\".format(np.percentile(x, p*100)))\n",
    "print(\"Confidence interval: ({:.4f}, {:.4f})\".format(np.sort(x)[rl], np.sort(x)[ru]))\n",
    "print(\"To be compared with: ({:.4f}, {:.4f})\".format(all_68.mean()-all_68.std()*3, all_68.mean()+all_68.std()*3))\n",
    "print(\"which is the corresponding confidence interval given by the normal distribution of the measured percentiles\")"
   ]
  },
  {
   "cell_type": "markdown",
   "metadata": {
    "pycharm": {}
   },
   "source": [
    "In ctaplot, this is computed by the function `percentile_confidence interval`:"
   ]
  },
  {
   "cell_type": "code",
   "execution_count": 9,
   "metadata": {
    "pycharm": {
     "is_executing": false
    }
   },
   "outputs": [
    {
     "name": "stdout",
     "text": [
      "68th percentile: 11.528\n",
      "Interval with a confidence level of 99.0%: (11.244, 11.918)\n"
     ],
     "output_type": "stream"
    },
    {
     "data": {
      "text/plain": "<Figure size 864x504 with 1 Axes>",
      "image/png": "[encoded data removed]"
     },
     "metadata": {
      "needs_background": "light"
     },
     "output_type": "display_data"
    }
   ],
   "source": [
    "from ctaplot.ana import percentile_confidence_interval\n",
    "\n",
    "p = 68.27\n",
    "confidence_level = 0.99\n",
    "pci = percentile_confidence_interval(x, percentile=p, confidence_level=0.99)\n",
    "print(\"68th percentile: {:.3f}\".format(np.percentile(x, p)))\n",
    "print(\"Interval with a confidence level of {}%: ({:.3f}, {:.3f})\".format(confidence_level*100, pci[0], pci[1]))\n",
    "\n",
    "\n",
    "plt.figure(figsize=(12,7))\n",
    "nbins, bins, patches = plt.hist(x, bins=100, density=True);\n",
    "ymax = 1.1 * nbins.max()\n",
    "\n",
    "plt.vlines(np.percentile(x, 50), 0, ymax, color='black')\n",
    "plt.vlines(np.percentile(x, p), 0, ymax, color='red')\n",
    "plt.vlines(pci[0], 0, ymax, linestyles='--', color='red')\n",
    "plt.vlines(pci[1], 0, ymax, linestyles='--', color='red',)\n",
    "plt.ylim(0, ymax);"
   ]
  },
  {
   "cell_type": "markdown",
   "metadata": {
    "pycharm": {}
   },
   "source": [
    "--- \n",
    "Note: The same method could be applied around the median.    \n",
    "In this case, the confidence interval is also given by $-\\sigma/\\sqrt{n}$ for a normal distribution."
   ]
  },
  {
   "cell_type": "code",
   "execution_count": 10,
   "metadata": {
    "pycharm": {
     "is_executing": false
    }
   },
   "outputs": [
    {
     "name": "stdout",
     "text": [
      "Median: 9.99912\n",
      "Confidence interval at 99%: (9.990545100476202, 10.007734065899768)\n",
      "To be compared with: (9.990119056062714, 10.008119056062714)\n"
     ],
     "output_type": "stream"
    }
   ],
   "source": [
    "pci = percentile_confidence_interval(X, percentile=50, confidence_level=0.99)\n",
    "print(\"Median: {:.5f}\".format(np.median(X)))\n",
    "print(\"Confidence interval at 99%: {}\".format(pci))\n",
    "print(\"To be compared with: ({}, {})\".format(np.median(X)-3*scale/np.sqrt(len(X)), np.median(X)+3*scale/np.sqrt(len(X))))"
   ]
  }
 ],
 "metadata": {
  "kernelspec": {
   "display_name": "Python 3",
   "language": "python",
   "name": "python3"
  },
  "language_info": {
   "codemirror_mode": {
    "name": "ipython",
    "version": 3
   },
   "file_extension": ".py",
   "mimetype": "text/x-python",
   "name": "python",
   "nbconvert_exporter": "python",
   "pygments_lexer": "ipython3",
   "version": "3.7.3"
  }
 },
 "nbformat": 4,
 "nbformat_minor": 2
}