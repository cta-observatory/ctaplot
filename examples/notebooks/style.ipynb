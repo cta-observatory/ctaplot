{
 "cells": [
  {
   "cell_type": "markdown",
   "metadata": {
    "collapsed": true,
    "pycharm": {
     "name": "#%% md\n"
    }
   },
   "source": [
    "# ctaplot styles\n",
    "\n",
    "ctaplot comes with different styles, based on `seaborn-deep` with a couple adjustements.\n",
    "- notebook\n",
    "- slides\n",
    "- paper\n",
    "\n",
    "\n",
    "On can set ctaplot plot style easily with `ctaplot.set_style()`. Or use the context manager."
   ]
  },
  {
   "cell_type": "code",
   "execution_count": null,
   "metadata": {
    "pycharm": {
     "is_executing": false,
     "name": "#%%\n"
    }
   },
   "outputs": [],
   "source": [
    "import ctaplot\n",
    "import matplotlib.pyplot as plt\n",
    "import matplotlib as mpl\n",
    "\n",
    "%matplotlib inline"
   ]
  },
  {
   "cell_type": "markdown",
   "metadata": {
    "pycharm": {
     "is_executing": false,
     "name": "#%% md\n"
    }
   },
   "source": [
    "## Default matplotlib style"
   ]
  },
  {
   "cell_type": "code",
   "execution_count": null,
   "metadata": {
    "pycharm": {
     "is_executing": false,
     "name": "#%%\n"
    }
   },
   "outputs": [],
   "source": [
    "mpl.rcParams.update(mpl.rcParamsDefault)\n",
    "\n",
    "ctaplot.plot_effective_area_cta_performance('north')\n",
    "ctaplot.plot_effective_area_cta_performance('south')\n",
    "ctaplot.plot_effective_area_cta_requirement('north')\n",
    "ctaplot.plot_effective_area_cta_requirement('south')\n",
    "plt.show()"
   ]
  },
  {
   "cell_type": "markdown",
   "metadata": {
    "pycharm": {
     "is_executing": false,
     "name": "#%% md\n"
    }
   },
   "source": [
    "## notebook style\n",
    "\n",
    "- larger figures\n",
    "- no LaTeX distribution required (faster to plot)"
   ]
  },
  {
   "cell_type": "code",
   "execution_count": null,
   "metadata": {
    "pycharm": {
     "is_executing": false,
     "name": "#%%\n"
    }
   },
   "outputs": [],
   "source": [
    "ctaplot.set_style('notebook')"
   ]
  },
  {
   "cell_type": "code",
   "execution_count": null,
   "metadata": {
    "pycharm": {
     "is_executing": false,
     "name": "#%%\n"
    }
   },
   "outputs": [],
   "source": [
    "ctaplot.plot_effective_area_cta_performance('north')\n",
    "ctaplot.plot_effective_area_cta_performance('south')\n",
    "ctaplot.plot_effective_area_cta_requirement('north')\n",
    "ctaplot.plot_effective_area_cta_requirement('south')\n",
    "plt.show()"
   ]
  },
  {
   "cell_type": "markdown",
   "metadata": {},
   "source": [
    "## Slides style\n",
    "- larger figures\n",
    "- LaTeX distribution used if available (longer to plot)"
   ]
  },
  {
   "cell_type": "code",
   "execution_count": null,
   "metadata": {
    "pycharm": {
     "is_executing": false,
     "name": "#%%\n"
    }
   },
   "outputs": [],
   "source": [
    "mpl.rcParams.update(mpl.rcParamsDefault)\n",
    "ctaplot.set_style('slides')"
   ]
  },
  {
   "cell_type": "code",
   "execution_count": null,
   "metadata": {
    "pycharm": {
     "is_executing": false,
     "name": "#%%\n"
    }
   },
   "outputs": [],
   "source": [
    "ctaplot.plot_effective_area_cta_performance('north')\n",
    "ctaplot.plot_effective_area_cta_performance('south')\n",
    "ctaplot.plot_effective_area_cta_requirement('north')\n",
    "ctaplot.plot_effective_area_cta_requirement('south')\n",
    "plt.show()"
   ]
  },
  {
   "cell_type": "markdown",
   "metadata": {},
   "source": [
    "## Paper style\n",
    "\n",
    "- LaTeX distribution used if available (longer to plot)\n",
    "- plots with a width equal to one column in two-columns articles"
   ]
  },
  {
   "cell_type": "code",
   "execution_count": null,
   "metadata": {
    "pycharm": {
     "is_executing": false,
     "name": "#%%\n"
    }
   },
   "outputs": [],
   "source": [
    "mpl.rcParams.update(mpl.rcParamsDefault)\n",
    "ctaplot.set_style('paper')"
   ]
  },
  {
   "cell_type": "code",
   "execution_count": null,
   "metadata": {
    "pycharm": {
     "is_executing": false,
     "name": "#%%\n"
    }
   },
   "outputs": [],
   "source": [
    "ctaplot.plot_effective_area_cta_performance('north')\n",
    "ctaplot.plot_effective_area_cta_performance('south')\n",
    "ctaplot.plot_effective_area_cta_requirement('north')\n",
    "ctaplot.plot_effective_area_cta_requirement('south')\n",
    "plt.show()"
   ]
  },
  {
   "cell_type": "markdown",
   "metadata": {},
   "source": [
    "## Context management\n",
    "\n",
    "You can also use the context manager to change the style temporarily.\n"
   ]
  },
  {
   "cell_type": "code",
   "execution_count": null,
   "metadata": {},
   "outputs": [],
   "source": [
    "# Let's reset the style to the default one first\n",
    "\n",
    "import matplotlib as mpl\n",
    "mpl.rcParams.update(mpl.rcParamsDefault)\n",
    "ctaplot.plot_effective_area_cta_performance('north')\n",
    "ctaplot.plot_effective_area_cta_performance('south')\n",
    "plt.show()"
   ]
  },
  {
   "cell_type": "code",
   "execution_count": null,
   "metadata": {},
   "outputs": [],
   "source": [
    "with ctaplot.plots.style.context('notebook'):\n",
    "    ctaplot.plot_effective_area_cta_performance('north')\n",
    "    ctaplot.plot_effective_area_cta_performance('south')\n",
    "plt.show()"
   ]
  },
  {
   "cell_type": "code",
   "execution_count": null,
   "metadata": {},
   "outputs": [],
   "source": [
    "with ctaplot.plots.style.context('slides'):\n",
    "    ctaplot.plot_effective_area_cta_performance('north')\n",
    "    ctaplot.plot_effective_area_cta_performance('south')\n",
    "plt.show()"
   ]
  },
  {
   "cell_type": "code",
   "execution_count": null,
   "metadata": {},
   "outputs": [],
   "source": [
    "with ctaplot.plots.style.context('paper'):\n",
    "    ctaplot.plot_effective_area_cta_performance('north')\n",
    "    ctaplot.plot_effective_area_cta_performance('south')\n",
    "plt.show()"
   ]
  },
  {
   "cell_type": "code",
   "execution_count": null,
   "metadata": {},
   "outputs": [],
   "source": []
  }
 ],
 "metadata": {
  "kernelspec": {
   "display_name": "Python 3",
   "language": "python",
   "name": "python3"
  },
  "language_info": {
   "codemirror_mode": {
    "name": "ipython",
    "version": 3
   },
   "file_extension": ".py",
   "mimetype": "text/x-python",
   "name": "python",
   "nbconvert_exporter": "python",
   "pygments_lexer": "ipython3",
   "version": "3.7.6"
  },
  "pycharm": {
   "stem_cell": {
    "cell_type": "raw",
    "metadata": {
     "collapsed": false
    },
    "source": []
   }
  }
 },
 "nbformat": 4,
 "nbformat_minor": 1
}
