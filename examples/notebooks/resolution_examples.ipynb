{
 "cells": [
  {
   "cell_type": "markdown",
   "metadata": {},
   "source": [
    "# A short example of ctaplot functions "
   ]
  },
  {
   "cell_type": "code",
   "execution_count": null,
   "metadata": {
    "pycharm": {
     "is_executing": false
    }
   },
   "outputs": [],
   "source": [
    "import ctaplot\n",
    "import numpy as np\n",
    "import matplotlib.pyplot as plt\n",
    "import astropy.units as u"
   ]
  },
  {
   "cell_type": "code",
   "execution_count": null,
   "metadata": {
    "pycharm": {
     "is_executing": false
    }
   },
   "outputs": [],
   "source": [
    "ctaplot.set_style('slides')"
   ]
  },
  {
   "cell_type": "markdown",
   "metadata": {},
   "source": [
    "## Generate some dummy data"
   ]
  },
  {
   "cell_type": "code",
   "execution_count": null,
   "metadata": {
    "pycharm": {
     "is_executing": false
    }
   },
   "outputs": [],
   "source": [
    "size = 1000\n",
    "simu_energy = 10**np.random.uniform(-2, 2, size) * u.TeV\n",
    "reco_energy = simu_energy.value**0.9 * simu_energy.unit\n",
    "source_alt = 3. * u.rad\n",
    "source_az = 1.5 * u.rad\n",
    "simu_alt = source_alt * np.ones(size)\n",
    "simu_az = source_az * np.ones(size)\n",
    "reco_alt = np.random.normal(loc=source_alt.to_value(u.rad), scale=2e-3, size=size) * u.rad\n",
    "reco_az = np.random.normal(loc=source_az.to_value(u.rad)-0.005, scale=2e-3, size=size) * u.rad"
   ]
  },
  {
   "cell_type": "markdown",
   "metadata": {},
   "source": [
    "## Position reconstruction"
   ]
  },
  {
   "cell_type": "code",
   "execution_count": null,
   "metadata": {
    "pycharm": {
     "is_executing": false
    }
   },
   "outputs": [],
   "source": [
    "# ctaplot.plot_field_of_view_map(reco_alt, reco_az, source_alt, source_az);"
   ]
  },
  {
   "cell_type": "code",
   "execution_count": null,
   "metadata": {
    "pycharm": {
     "is_executing": false
    }
   },
   "outputs": [],
   "source": [
    "fig, axes = plt.subplots(1, 2, figsize=(20,5))\n",
    "ctaplot.plot_theta2(simu_alt, reco_alt, simu_az, reco_az, bins=40, ax=axes[0])\n",
    "ctaplot.plot_angular_resolution_per_energy(simu_alt, reco_alt, simu_az, reco_az, simu_energy, ax=axes[1]) \n",
    "ctaplot.plot_angular_resolution_cta_requirement('south', ax=axes[1], color='black')\n",
    "axes[1].legend();\n",
    "plt.show()"
   ]
  },
  {
   "cell_type": "code",
   "execution_count": null,
   "metadata": {},
   "outputs": [],
   "source": [
    "reco_az, , simu_az, bins=40, ax=axes[0])\n",
    "ctaplot.plot_angular_resolution_per_energy(simu_alt, reco_alt, simu_az, reco_az, simu_energy, ax=axes[1]) \n",
    "ctaplot.plot_angular_resolution_cta_requirement('south', ax=axes[1], color='black')\n",
    "axes[1].legend();\n",
    "plt.show()"
   ]
  },
  {
   "cell_type": "markdown",
   "metadata": {},
   "source": [
    "Ok, the position is really not well reconstructed.   \n",
    "But this is actually because of a bias in the reconstruction. We can ask for an automatic correction of this bias."
   ]
  },
  {
   "cell_type": "code",
   "execution_count": null,
   "metadata": {
    "pycharm": {
     "is_executing": false
    },
    "scrolled": true
   },
   "outputs": [],
   "source": [
    "fig, axes = plt.subplots(1, 2, figsize=(20,5))\n",
    "ctaplot.plot_theta2(reco_alt, reco_az, simu_alt, simu_az,\n",
    "                    bins=40,\n",
    "                    bias_correction=True,\n",
    "                    ax=axes[0])\n",
    "\n",
    "ctaplot.plot_angular_resolution_per_energy(simu_alt, reco_alt, simu_az, reco_az, simu_energy,\n",
    "                                           bias_correction=True,\n",
    "                                           ax=axes[1])\n",
    "\n",
    "ctaplot.plot_angular_resolution_cta_requirement('south', ax=axes[1], color='black')\n",
    "axes[1].legend()\n",
    "plt.show()"
   ]
  },
  {
   "cell_type": "markdown",
   "metadata": {},
   "source": [
    "Now the angular resolution looks better, in agreement with the input scale of the Gaussian distribution."
   ]
  },
  {
   "cell_type": "markdown",
   "metadata": {},
   "source": [
    "## Energy reconstruction"
   ]
  },
  {
   "cell_type": "code",
   "execution_count": null,
   "metadata": {
    "pycharm": {
     "is_executing": false
    }
   },
   "outputs": [],
   "source": [
    "plt.figure(figsize=(12,7))\n",
    "ax = ctaplot.plot_energy_resolution(simu_energy, reco_energy)\n",
    "ctaplot.plot_energy_resolution_cta_requirement('north', ax=ax)\n",
    "ax.legend()\n",
    "plt.show()"
   ]
  },
  {
   "cell_type": "markdown",
   "metadata": {},
   "source": [
    "**But you might want to study the energy resolution as a function of another variable...    \n",
    "or to compute the resolution of other stuff**"
   ]
  },
  {
   "cell_type": "code",
   "execution_count": null,
   "metadata": {
    "pycharm": {
     "is_executing": false
    }
   },
   "outputs": [],
   "source": [
    "new_variable = simu_energy * 2\n",
    "\n",
    "bins, res = ctaplot.resolution_per_bin(new_variable, simu_energy, reco_energy,\n",
    "                                       bins=np.logspace(-2,2,10)*u.TeV,\n",
    "                                       relative_scaling_method='s1')"
   ]
  },
  {
   "cell_type": "code",
   "execution_count": null,
   "metadata": {
    "pycharm": {
     "is_executing": false
    }
   },
   "outputs": [],
   "source": [
    "ax = ctaplot.plot_energy_resolution(simu_energy, reco_energy)\n",
    "ctaplot.plot_resolution(bins, res, label='new resolution', ax=ax, log=True)\n",
    "ax.legend()\n",
    "plt.show()"
   ]
  },
  {
   "cell_type": "code",
   "execution_count": null,
   "metadata": {
    "pycharm": {
     "is_executing": false
    }
   },
   "outputs": [],
   "source": []
  }
 ],
 "metadata": {
  "kernelspec": {
   "display_name": "Python 3",
   "language": "python",
   "name": "python3"
  },
  "language_info": {
   "codemirror_mode": {
    "name": "ipython",
    "version": 3
   },
   "file_extension": ".py",
   "mimetype": "text/x-python",
   "name": "python",
   "nbconvert_exporter": "python",
   "pygments_lexer": "ipython3",
   "version": "3.7.6"
  },
  "pycharm": {
   "stem_cell": {
    "cell_type": "raw",
    "metadata": {
     "collapsed": false
    },
    "source": []
   }
  }
 },
 "nbformat": 4,
 "nbformat_minor": 2
}
